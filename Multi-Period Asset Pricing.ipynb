{
 "cells": [
  {
   "cell_type": "code",
   "execution_count": 1,
   "metadata": {},
   "outputs": [],
   "source": [
    "import pandas as pd\n",
    "import numpy as np\n",
    "from sklearn.linear_model import LinearRegression\n",
    "from scipy.stats import linregress\n",
    "import matplotlib.pyplot as plt\n",
    "import os\n",
    "import glob"
   ]
  },
  {
   "cell_type": "code",
   "execution_count": 2,
   "metadata": {},
   "outputs": [
    {
     "data": {
      "text/plain": [
       "<matplotlib.collections.PathCollection at 0x1a215d1c50>"
      ]
     },
     "execution_count": 2,
     "metadata": {},
     "output_type": "execute_result"
    },
    {
     "data": {
      "image/png": "[encoded data removed]",
      "text/plain": [
       "<Figure size 432x288 with 1 Axes>"
      ]
     },
     "metadata": {
      "needs_background": "light"
     },
     "output_type": "display_data"
    }
   ],
   "source": [
    "def random_floats(low, high, size):\n",
    "    return [np.random.uniform(low, high) for _ in range(size)]\n",
    "\n",
    "size = 10000\n",
    "\n",
    "X = random_floats(0, 1, size)\n",
    "\n",
    "nu_list = []\n",
    "[nu_list.append(np.log(0.65)) if i<=0.017 else nu_list.append(0) for i in X]\n",
    "\n",
    "nu = np.array(nu_list).reshape(-1,1) \n",
    "ep = np.random.normal(0, 1, size).reshape(-1,1)\n",
    "\n",
    "log_g = 0.02+0.02*ep+nu\n",
    "g = np.exp(log_g)\n",
    "g_list = g.tolist\n",
    "\n",
    "#Part 1: Hansen–Jagannathan Bound\n",
    "M_list = []\n",
    "gamma_list = []\n",
    "\n",
    "for i in np.arange(1,4,0.02):    \n",
    "    M = 0.99*g**-i\n",
    "    M_list.append(M)\n",
    "    gamma_list.append(i)\n",
    "    \n",
    "M = np.array(M_list)\n",
    "gamma = np.array(gamma_list)\n",
    "\n",
    "#print(g)\n",
    "#print(M_list) \n",
    "#print(M)\n",
    "#print(np.std(M, axis = 1, ddof = 1))\n",
    "#print(np.mean(M, axis = 1))\n",
    "\n",
    "SD_over_mean = np.std(M, axis = 1, ddof = 1)/np.mean(M, axis = 1)\n",
    "\n",
    "#print(SD_over_mean.T)\n",
    "#print(gamma)\n",
    "\n",
    "df= pd.concat([pd.DataFrame(gamma),pd.DataFrame(SD_over_mean)], axis=1)\n",
    "df.columns= \"Gamma\",\"SD(M)/E(M)\"\n",
    "df.to_excel('Gamma_SD_M.xlsx')\n",
    "\n",
    "plt.scatter(gamma , SD_over_mean.T, s=np.pi*3, alpha=0.5)\n"
   ]
  },
  {
   "cell_type": "code",
   "execution_count": 3,
   "metadata": {},
   "outputs": [
    {
     "data": {
      "text/plain": [
       "<matplotlib.collections.PathCollection at 0x1a22060dd8>"
      ]
     },
     "execution_count": 3,
     "metadata": {},
     "output_type": "execute_result"
    },
    {
     "data": {
      "image/png": "[encoded data removed]",
      "text/plain": [
       "<Figure size 432x288 with 1 Axes>"
      ]
     },
     "metadata": {
      "needs_background": "light"
     },
     "output_type": "display_data"
    }
   ],
   "source": [
    "#Part 2: Price-Dividend Ratio\n",
    "\n",
    "M_list2 = []\n",
    "gamma_list2 = []\n",
    "\n",
    "for i in np.arange(1,7,0.05):    \n",
    "    M2 = 0.99*g**(1-i)\n",
    "    M_list2.append(M2)\n",
    "    gamma_list2.append(i)\n",
    "\n",
    "#print(M_list2)\n",
    "#print(gamma_list2)\n",
    "\n",
    "P1_D = np.mean(np.array(M_list2), axis = 1)\n",
    "plt.scatter(gamma_list2 ,P1_D, s=np.pi*3, alpha=0.5)"
   ]
  },
  {
   "cell_type": "code",
   "execution_count": 4,
   "metadata": {},
   "outputs": [
    {
     "data": {
      "text/plain": [
       "<matplotlib.collections.PathCollection at 0x1a220ccd30>"
      ]
     },
     "execution_count": 4,
     "metadata": {},
     "output_type": "execute_result"
    },
    {
     "data": {
      "image/png": "[encoded data removed]",
      "text/plain": [
       "<Figure size 432x288 with 1 Axes>"
      ]
     },
     "metadata": {
      "needs_background": "light"
     },
     "output_type": "display_data"
    }
   ],
   "source": [
    "#Part 3: Equity Premium\n",
    "\n",
    "M_list3 = []\n",
    "gamma_list3 = []\n",
    "\n",
    "for i in np.arange(1,7,0.05):    \n",
    "    M3 = (0.99*g**(-i))\n",
    "    M_list3.append(M3)\n",
    "    gamma_list3.append(i)\n",
    "    \n",
    "M3 = np.array(M_list3)\n",
    "Rf = 1/(np.mean(M3, axis = 1))\n",
    "\n",
    "Rm = np.reciprocal(P1_D)*g.mean()\n",
    "equity_premium = Rm-Rf\n",
    "\n",
    "plt.scatter(gamma_list3 ,equity_premium, s=np.pi*3, alpha=0.5)"
   ]
  },
  {
   "cell_type": "code",
   "execution_count": null,
   "metadata": {},
   "outputs": [],
   "source": []
  },
  {
   "cell_type": "code",
   "execution_count": null,
   "metadata": {},
   "outputs": [],
   "source": []
  }
 ],
 "metadata": {
  "kernelspec": {
   "display_name": "Python 3",
   "language": "python",
   "name": "python3"
  },
  "language_info": {
   "codemirror_mode": {
    "name": "ipython",
    "version": 3
   },
   "file_extension": ".py",
   "mimetype": "text/x-python",
   "name": "python",
   "nbconvert_exporter": "python",
   "pygments_lexer": "ipython3",
   "version": "3.7.3"
  }
 },
 "nbformat": 4,
 "nbformat_minor": 2
}
