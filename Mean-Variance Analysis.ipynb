{
 "cells": [
  {
   "cell_type": "code",
   "execution_count": 2,
   "metadata": {},
   "outputs": [],
   "source": [
    "import numpy as np\n",
    "import pandas as pd\n",
    "import matplotlib.pyplot as plt"
   ]
  },
  {
   "cell_type": "code",
   "execution_count": 4,
   "metadata": {},
   "outputs": [],
   "source": [
    "data=pd.read_csv('Industry_Portfolios.csv',header=0,index_col=0,parse_dates=True)"
   ]
  },
  {
   "cell_type": "code",
   "execution_count": 5,
   "metadata": {},
   "outputs": [],
   "source": [
    "#VECTOR OF MEAN RETURNS (3 decimals)"
   ]
  },
  {
   "cell_type": "code",
   "execution_count": 6,
   "metadata": {},
   "outputs": [],
   "source": [
    "R=np.round(np.array([[data['NoDur'].mean()],\n",
    "                      [data['Durbl'].mean()],\n",
    "                      [data['Manuf'].mean()],\n",
    "                      [data['Enrgy'].mean()],\n",
    "                      [data['HiTec'].mean()],\n",
    "                      [data['Telcm'].mean()],\n",
    "                      [data['Shops'].mean()],\n",
    "                      [data['Hlth'].mean()],\n",
    "                      [data['Utils'].mean()],\n",
    "                      [data['Other'].mean()]]),3)"
   ]
  },
  {
   "cell_type": "code",
   "execution_count": 7,
   "metadata": {},
   "outputs": [
    {
     "data": {
      "text/plain": [
       "array([[0.903],\n",
       "       [0.733],\n",
       "       [1.013],\n",
       "       [1.231],\n",
       "       [0.766],\n",
       "       [0.881],\n",
       "       [0.916],\n",
       "       [0.784],\n",
       "       [0.907],\n",
       "       [0.489]])"
      ]
     },
     "execution_count": 7,
     "metadata": {},
     "output_type": "execute_result"
    }
   ],
   "source": [
    "R"
   ]
  },
  {
   "cell_type": "code",
   "execution_count": 8,
   "metadata": {},
   "outputs": [],
   "source": [
    "#COVARIANCE MATRIX OF RETURNS (3 decimals)"
   ]
  },
  {
   "cell_type": "code",
   "execution_count": 9,
   "metadata": {},
   "outputs": [],
   "source": [
    "values=data.values.transpose()"
   ]
  },
  {
   "cell_type": "code",
   "execution_count": 10,
   "metadata": {},
   "outputs": [
    {
     "data": {
      "text/plain": [
       "array([[11.193, 18.45 , 14.105, 10.531, 12.923, 11.968, 10.171,  9.953,\n",
       "         7.867, 14.438],\n",
       "       [18.45 , 69.921, 39.178, 27.02 , 35.467, 27.491, 27.445, 16.824,\n",
       "        12.746, 39.362],\n",
       "       [14.105, 39.178, 28.199, 23.145, 24.619, 19.55 , 17.623, 13.596,\n",
       "        11.441, 26.313],\n",
       "       [10.531, 27.02 , 23.145, 36.985, 19.267, 15.367, 11.298,  9.63 ,\n",
       "        14.027, 18.32 ],\n",
       "       [12.923, 35.467, 24.619, 19.267, 28.957, 18.708, 17.837, 13.254,\n",
       "        10.304, 23.855],\n",
       "       [11.968, 27.491, 19.55 , 15.367, 18.708, 19.787, 14.169, 11.507,\n",
       "        10.992, 19.611],\n",
       "       [10.171, 27.445, 17.623, 11.298, 17.837, 14.169, 16.759, 10.179,\n",
       "         6.694, 19.227],\n",
       "       [ 9.953, 16.824, 13.596,  9.63 , 13.254, 11.507, 10.179, 14.343,\n",
       "         7.475, 14.865],\n",
       "       [ 7.867, 12.746, 11.441, 14.027, 10.304, 10.992,  6.694,  7.475,\n",
       "        13.703,  9.993],\n",
       "       [14.438, 39.362, 26.313, 18.32 , 23.855, 19.611, 19.227, 14.865,\n",
       "         9.993, 31.164]])"
      ]
     },
     "execution_count": 10,
     "metadata": {},
     "output_type": "execute_result"
    }
   ],
   "source": [
    "V=np.round(np.cov(values),3)\n",
    "V"
   ]
  },
  {
   "cell_type": "code",
   "execution_count": 11,
   "metadata": {},
   "outputs": [],
   "source": [
    "vector_sd=np.round(np.array([data['NoDur'].std(),\n",
    "                      data['Durbl'].std(),\n",
    "                      data['Manuf'].std(),\n",
    "                      data['Enrgy'].std(),\n",
    "                      data['HiTec'].std(),\n",
    "                      data['Telcm'].std(),\n",
    "                      data['Shops'].std(),\n",
    "                      data['Hlth'].std(),\n",
    "                      data['Utils'].std(),\n",
    "                      data['Other'].std(),]),3)"
   ]
  },
  {
   "cell_type": "code",
   "execution_count": 12,
   "metadata": {},
   "outputs": [],
   "source": [
    "#TABLE OF MEAN RETURNS"
   ]
  },
  {
   "cell_type": "code",
   "execution_count": 13,
   "metadata": {},
   "outputs": [
    {
     "data": {
      "text/html": [
       "<div>\n",
       "<style scoped>\n",
       "    .dataframe tbody tr th:only-of-type {\n",
       "        vertical-align: middle;\n",
       "    }\n",
       "\n",
       "    .dataframe tbody tr th {\n",
       "        vertical-align: top;\n",
       "    }\n",
       "\n",
       "    .dataframe thead th {\n",
       "        text-align: right;\n",
       "    }\n",
       "</style>\n",
       "<table border=\"1\" class=\"dataframe\">\n",
       "  <thead>\n",
       "    <tr style=\"text-align: right;\">\n",
       "      <th></th>\n",
       "      <th>Mean Returns</th>\n",
       "    </tr>\n",
       "  </thead>\n",
       "  <tbody>\n",
       "    <tr>\n",
       "      <th>NoDur</th>\n",
       "      <td>0.903</td>\n",
       "    </tr>\n",
       "    <tr>\n",
       "      <th>Durbl</th>\n",
       "      <td>0.733</td>\n",
       "    </tr>\n",
       "    <tr>\n",
       "      <th>Manuf</th>\n",
       "      <td>1.013</td>\n",
       "    </tr>\n",
       "    <tr>\n",
       "      <th>Enrgy</th>\n",
       "      <td>1.231</td>\n",
       "    </tr>\n",
       "    <tr>\n",
       "      <th>Hitec</th>\n",
       "      <td>0.766</td>\n",
       "    </tr>\n",
       "    <tr>\n",
       "      <th>Telcm</th>\n",
       "      <td>0.881</td>\n",
       "    </tr>\n",
       "    <tr>\n",
       "      <th>Shops</th>\n",
       "      <td>0.916</td>\n",
       "    </tr>\n",
       "    <tr>\n",
       "      <th>Hlth</th>\n",
       "      <td>0.784</td>\n",
       "    </tr>\n",
       "    <tr>\n",
       "      <th>Utils</th>\n",
       "      <td>0.907</td>\n",
       "    </tr>\n",
       "    <tr>\n",
       "      <th>Other</th>\n",
       "      <td>0.489</td>\n",
       "    </tr>\n",
       "  </tbody>\n",
       "</table>\n",
       "</div>"
      ],
      "text/plain": [
       "       Mean Returns\n",
       "NoDur         0.903\n",
       "Durbl         0.733\n",
       "Manuf         1.013\n",
       "Enrgy         1.231\n",
       "Hitec         0.766\n",
       "Telcm         0.881\n",
       "Shops         0.916\n",
       "Hlth          0.784\n",
       "Utils         0.907\n",
       "Other         0.489"
      ]
     },
     "execution_count": 13,
     "metadata": {},
     "output_type": "execute_result"
    }
   ],
   "source": [
    "Return = pd.DataFrame(R)\n",
    "Return.rename(columns = {0:\"Mean Returns\"},index={0:'NoDur',1:'Durbl',2:'Manuf',3:'Enrgy',4:'Hitec',5:'Telcm',6:'Shops',7:'Hlth',8:'Utils',9:'Other'})"
   ]
  },
  {
   "cell_type": "code",
   "execution_count": 14,
   "metadata": {},
   "outputs": [],
   "source": [
    "#TABLE OF STANDARD DEVIATIONS"
   ]
  },
  {
   "cell_type": "code",
   "execution_count": 15,
   "metadata": {},
   "outputs": [
    {
     "data": {
      "text/html": [
       "<div>\n",
       "<style scoped>\n",
       "    .dataframe tbody tr th:only-of-type {\n",
       "        vertical-align: middle;\n",
       "    }\n",
       "\n",
       "    .dataframe tbody tr th {\n",
       "        vertical-align: top;\n",
       "    }\n",
       "\n",
       "    .dataframe thead th {\n",
       "        text-align: right;\n",
       "    }\n",
       "</style>\n",
       "<table border=\"1\" class=\"dataframe\">\n",
       "  <thead>\n",
       "    <tr style=\"text-align: right;\">\n",
       "      <th></th>\n",
       "      <th>Std Dev</th>\n",
       "    </tr>\n",
       "  </thead>\n",
       "  <tbody>\n",
       "    <tr>\n",
       "      <th>NoDur</th>\n",
       "      <td>3.346</td>\n",
       "    </tr>\n",
       "    <tr>\n",
       "      <th>Durbl</th>\n",
       "      <td>8.362</td>\n",
       "    </tr>\n",
       "    <tr>\n",
       "      <th>Manuf</th>\n",
       "      <td>5.310</td>\n",
       "    </tr>\n",
       "    <tr>\n",
       "      <th>Enrgy</th>\n",
       "      <td>6.082</td>\n",
       "    </tr>\n",
       "    <tr>\n",
       "      <th>Hitec</th>\n",
       "      <td>5.381</td>\n",
       "    </tr>\n",
       "    <tr>\n",
       "      <th>Telcm</th>\n",
       "      <td>4.448</td>\n",
       "    </tr>\n",
       "    <tr>\n",
       "      <th>Shops</th>\n",
       "      <td>4.094</td>\n",
       "    </tr>\n",
       "    <tr>\n",
       "      <th>Hlth</th>\n",
       "      <td>3.787</td>\n",
       "    </tr>\n",
       "    <tr>\n",
       "      <th>Utils</th>\n",
       "      <td>3.702</td>\n",
       "    </tr>\n",
       "    <tr>\n",
       "      <th>Other</th>\n",
       "      <td>5.582</td>\n",
       "    </tr>\n",
       "  </tbody>\n",
       "</table>\n",
       "</div>"
      ],
      "text/plain": [
       "       Std Dev\n",
       "NoDur    3.346\n",
       "Durbl    8.362\n",
       "Manuf    5.310\n",
       "Enrgy    6.082\n",
       "Hitec    5.381\n",
       "Telcm    4.448\n",
       "Shops    4.094\n",
       "Hlth     3.787\n",
       "Utils    3.702\n",
       "Other    5.582"
      ]
     },
     "execution_count": 15,
     "metadata": {},
     "output_type": "execute_result"
    }
   ],
   "source": [
    "sd=pd.DataFrame(vector_sd)\n",
    "sd.rename(columns={0:\"Std Dev\"},index = {0:'NoDur',1:'Durbl',2:'Manuf',3:'Enrgy',4:'Hitec',5:'Telcm',6:'Shops',7:'Hlth',8:'Utils',9:'Other'})"
   ]
  },
  {
   "cell_type": "code",
   "execution_count": 16,
   "metadata": {},
   "outputs": [],
   "source": [
    "#PLOT MINIMUM-VARIANCE FRONTIER"
   ]
  },
  {
   "cell_type": "code",
   "execution_count": 17,
   "metadata": {},
   "outputs": [
    {
     "data": {
      "text/html": [
       "<div>\n",
       "<style scoped>\n",
       "    .dataframe tbody tr th:only-of-type {\n",
       "        vertical-align: middle;\n",
       "    }\n",
       "\n",
       "    .dataframe tbody tr th {\n",
       "        vertical-align: top;\n",
       "    }\n",
       "\n",
       "    .dataframe thead th {\n",
       "        text-align: right;\n",
       "    }\n",
       "</style>\n",
       "<table border=\"1\" class=\"dataframe\">\n",
       "  <thead>\n",
       "    <tr style=\"text-align: right;\">\n",
       "      <th></th>\n",
       "      <th>0</th>\n",
       "      <th>1</th>\n",
       "      <th>2</th>\n",
       "      <th>3</th>\n",
       "      <th>4</th>\n",
       "      <th>5</th>\n",
       "      <th>6</th>\n",
       "      <th>7</th>\n",
       "      <th>8</th>\n",
       "      <th>9</th>\n",
       "    </tr>\n",
       "  </thead>\n",
       "  <tbody>\n",
       "    <tr>\n",
       "      <th>0</th>\n",
       "      <td>11.193</td>\n",
       "      <td>18.450</td>\n",
       "      <td>14.105</td>\n",
       "      <td>10.531</td>\n",
       "      <td>12.923</td>\n",
       "      <td>11.968</td>\n",
       "      <td>10.171</td>\n",
       "      <td>9.953</td>\n",
       "      <td>7.867</td>\n",
       "      <td>14.438</td>\n",
       "    </tr>\n",
       "    <tr>\n",
       "      <th>1</th>\n",
       "      <td>18.450</td>\n",
       "      <td>69.921</td>\n",
       "      <td>39.178</td>\n",
       "      <td>27.020</td>\n",
       "      <td>35.467</td>\n",
       "      <td>27.491</td>\n",
       "      <td>27.445</td>\n",
       "      <td>16.824</td>\n",
       "      <td>12.746</td>\n",
       "      <td>39.362</td>\n",
       "    </tr>\n",
       "    <tr>\n",
       "      <th>2</th>\n",
       "      <td>14.105</td>\n",
       "      <td>39.178</td>\n",
       "      <td>28.199</td>\n",
       "      <td>23.145</td>\n",
       "      <td>24.619</td>\n",
       "      <td>19.550</td>\n",
       "      <td>17.623</td>\n",
       "      <td>13.596</td>\n",
       "      <td>11.441</td>\n",
       "      <td>26.313</td>\n",
       "    </tr>\n",
       "    <tr>\n",
       "      <th>3</th>\n",
       "      <td>10.531</td>\n",
       "      <td>27.020</td>\n",
       "      <td>23.145</td>\n",
       "      <td>36.985</td>\n",
       "      <td>19.267</td>\n",
       "      <td>15.367</td>\n",
       "      <td>11.298</td>\n",
       "      <td>9.630</td>\n",
       "      <td>14.027</td>\n",
       "      <td>18.320</td>\n",
       "    </tr>\n",
       "    <tr>\n",
       "      <th>4</th>\n",
       "      <td>12.923</td>\n",
       "      <td>35.467</td>\n",
       "      <td>24.619</td>\n",
       "      <td>19.267</td>\n",
       "      <td>28.957</td>\n",
       "      <td>18.708</td>\n",
       "      <td>17.837</td>\n",
       "      <td>13.254</td>\n",
       "      <td>10.304</td>\n",
       "      <td>23.855</td>\n",
       "    </tr>\n",
       "    <tr>\n",
       "      <th>5</th>\n",
       "      <td>11.968</td>\n",
       "      <td>27.491</td>\n",
       "      <td>19.550</td>\n",
       "      <td>15.367</td>\n",
       "      <td>18.708</td>\n",
       "      <td>19.787</td>\n",
       "      <td>14.169</td>\n",
       "      <td>11.507</td>\n",
       "      <td>10.992</td>\n",
       "      <td>19.611</td>\n",
       "    </tr>\n",
       "    <tr>\n",
       "      <th>6</th>\n",
       "      <td>10.171</td>\n",
       "      <td>27.445</td>\n",
       "      <td>17.623</td>\n",
       "      <td>11.298</td>\n",
       "      <td>17.837</td>\n",
       "      <td>14.169</td>\n",
       "      <td>16.759</td>\n",
       "      <td>10.179</td>\n",
       "      <td>6.694</td>\n",
       "      <td>19.227</td>\n",
       "    </tr>\n",
       "    <tr>\n",
       "      <th>7</th>\n",
       "      <td>9.953</td>\n",
       "      <td>16.824</td>\n",
       "      <td>13.596</td>\n",
       "      <td>9.630</td>\n",
       "      <td>13.254</td>\n",
       "      <td>11.507</td>\n",
       "      <td>10.179</td>\n",
       "      <td>14.343</td>\n",
       "      <td>7.475</td>\n",
       "      <td>14.865</td>\n",
       "    </tr>\n",
       "    <tr>\n",
       "      <th>8</th>\n",
       "      <td>7.867</td>\n",
       "      <td>12.746</td>\n",
       "      <td>11.441</td>\n",
       "      <td>14.027</td>\n",
       "      <td>10.304</td>\n",
       "      <td>10.992</td>\n",
       "      <td>6.694</td>\n",
       "      <td>7.475</td>\n",
       "      <td>13.703</td>\n",
       "      <td>9.993</td>\n",
       "    </tr>\n",
       "    <tr>\n",
       "      <th>9</th>\n",
       "      <td>14.438</td>\n",
       "      <td>39.362</td>\n",
       "      <td>26.313</td>\n",
       "      <td>18.320</td>\n",
       "      <td>23.855</td>\n",
       "      <td>19.611</td>\n",
       "      <td>19.227</td>\n",
       "      <td>14.865</td>\n",
       "      <td>9.993</td>\n",
       "      <td>31.164</td>\n",
       "    </tr>\n",
       "  </tbody>\n",
       "</table>\n",
       "</div>"
      ],
      "text/plain": [
       "        0       1       2       3       4       5       6       7       8  \\\n",
       "0  11.193  18.450  14.105  10.531  12.923  11.968  10.171   9.953   7.867   \n",
       "1  18.450  69.921  39.178  27.020  35.467  27.491  27.445  16.824  12.746   \n",
       "2  14.105  39.178  28.199  23.145  24.619  19.550  17.623  13.596  11.441   \n",
       "3  10.531  27.020  23.145  36.985  19.267  15.367  11.298   9.630  14.027   \n",
       "4  12.923  35.467  24.619  19.267  28.957  18.708  17.837  13.254  10.304   \n",
       "5  11.968  27.491  19.550  15.367  18.708  19.787  14.169  11.507  10.992   \n",
       "6  10.171  27.445  17.623  11.298  17.837  14.169  16.759  10.179   6.694   \n",
       "7   9.953  16.824  13.596   9.630  13.254  11.507  10.179  14.343   7.475   \n",
       "8   7.867  12.746  11.441  14.027  10.304  10.992   6.694   7.475  13.703   \n",
       "9  14.438  39.362  26.313  18.320  23.855  19.611  19.227  14.865   9.993   \n",
       "\n",
       "        9  \n",
       "0  14.438  \n",
       "1  39.362  \n",
       "2  26.313  \n",
       "3  18.320  \n",
       "4  23.855  \n",
       "5  19.611  \n",
       "6  19.227  \n",
       "7  14.865  \n",
       "8   9.993  \n",
       "9  31.164  "
      ]
     },
     "execution_count": 17,
     "metadata": {},
     "output_type": "execute_result"
    }
   ],
   "source": [
    "covariance = pd.DataFrame(V)\n",
    "covariance"
   ]
  },
  {
   "cell_type": "code",
   "execution_count": 18,
   "metadata": {},
   "outputs": [],
   "source": [
    "V_inverse = np.linalg.inv(V)"
   ]
  },
  {
   "cell_type": "code",
   "execution_count": 19,
   "metadata": {},
   "outputs": [],
   "source": [
    "R_prime = R.transpose()"
   ]
  },
  {
   "cell_type": "code",
   "execution_count": 20,
   "metadata": {},
   "outputs": [],
   "source": [
    "e = np.ones((10,1),dtype = int)"
   ]
  },
  {
   "cell_type": "code",
   "execution_count": 21,
   "metadata": {},
   "outputs": [],
   "source": [
    "e_prime = e.transpose()"
   ]
  },
  {
   "cell_type": "code",
   "execution_count": 22,
   "metadata": {},
   "outputs": [
    {
     "data": {
      "text/plain": [
       "0.13794012453684035"
      ]
     },
     "execution_count": 22,
     "metadata": {},
     "output_type": "execute_result"
    }
   ],
   "source": [
    "alpha = float(np.matmul(np.matmul(R_prime,V_inverse),e))\n",
    "alpha"
   ]
  },
  {
   "cell_type": "code",
   "execution_count": 33,
   "metadata": {},
   "outputs": [
    {
     "data": {
      "text/plain": [
       "0.19643794416641736"
      ]
     },
     "execution_count": 33,
     "metadata": {},
     "output_type": "execute_result"
    }
   ],
   "source": [
    "zeta = float(np.matmul(np.matmul(R_prime,V_inverse),R))\n",
    "zeta"
   ]
  },
  {
   "cell_type": "code",
   "execution_count": 34,
   "metadata": {},
   "outputs": [
    {
     "data": {
      "text/plain": [
       "0.13739136774691937"
      ]
     },
     "execution_count": 34,
     "metadata": {},
     "output_type": "execute_result"
    }
   ],
   "source": [
    "delta=float(np.matmul(np.matmul(e_prime,V_inverse),e))\n",
    "delta"
   ]
  },
  {
   "cell_type": "code",
   "execution_count": 35,
   "metadata": {},
   "outputs": [
    {
     "data": {
      "text/plain": [
       "1.0039941140329267"
      ]
     },
     "execution_count": 35,
     "metadata": {},
     "output_type": "execute_result"
    }
   ],
   "source": [
    "Rmv = alpha/delta\n",
    "Rmv"
   ]
  },
  {
   "cell_type": "code",
   "execution_count": 26,
   "metadata": {},
   "outputs": [
    {
     "data": {
      "text/plain": [
       "array([[ 0.49187053],\n",
       "       [ 0.10830094],\n",
       "       [-1.9537578 ],\n",
       "       [-0.01187785],\n",
       "       [ 0.52972898],\n",
       "       [-0.25987408],\n",
       "       [-0.24704134],\n",
       "       [ 0.2823728 ],\n",
       "       [ 0.69580145],\n",
       "       [ 1.36447636]])"
      ]
     },
     "execution_count": 26,
     "metadata": {},
     "output_type": "execute_result"
    }
   ],
   "source": [
    "a = (zeta*np.matmul(V_inverse,e)-alpha*np.matmul(V_inverse,R))/(zeta*delta-alpha**2)\n",
    "a"
   ]
  },
  {
   "cell_type": "code",
   "execution_count": 27,
   "metadata": {},
   "outputs": [
    {
     "data": {
      "text/plain": [
       "array([[ 0.05146637],\n",
       "       [-0.21697263],\n",
       "       [ 1.7954127 ],\n",
       "       [ 0.07787016],\n",
       "       [-0.60101578],\n",
       "       [ 0.11024255],\n",
       "       [ 0.83300987],\n",
       "       [-0.1388992 ],\n",
       "       [-0.3789362 ],\n",
       "       [-1.53217785]])"
      ]
     },
     "execution_count": 27,
     "metadata": {},
     "output_type": "execute_result"
    }
   ],
   "source": [
    "b = (delta*np.matmul(V_inverse,R)-alpha*np.matmul(V_inverse,e))/(zeta*delta-alpha**2)\n",
    "b"
   ]
  },
  {
   "cell_type": "code",
   "execution_count": 28,
   "metadata": {},
   "outputs": [
    {
     "data": {
      "image/png": "[encoded data removed]",
      "text/plain": [
       "<Figure size 720x576 with 1 Axes>"
      ]
     },
     "metadata": {},
     "output_type": "display_data"
    }
   ],
   "source": [
    "port_returns = []\n",
    "port_volatility = []\n",
    "\n",
    "# populate the empty lists with each portfolios returns,risk and weights\n",
    "for Rp in np.arange(0.0,2.01,0.01):\n",
    "    volatility = np.sqrt((1/delta)+(delta/((zeta*delta)-alpha**2))*(Rp-Rmv)**2)\n",
    "    port_returns.append(Rp)\n",
    "    port_volatility.append(volatility)\n",
    "    \n",
    "# dictionary for Returns and Risk values of each portfolio\n",
    "portfolio = {'Returns': port_returns,\n",
    "             'Volatility': port_volatility}\n",
    "\n",
    "# dataframe of the extended dictionary\n",
    "df = pd.DataFrame(portfolio)\n",
    "\n",
    "plt.style.use('seaborn')\n",
    "df.plot.scatter(x =  'Volatility', y = 'Returns', figsize = (10, 8), grid = True)\n",
    "plt.xlabel('Volatility (Std. Deviation)')\n",
    "plt.ylabel('Expected Returns')\n",
    "plt.title('Minimum-Variance Frontier')\n",
    "plt.show()"
   ]
  },
  {
   "cell_type": "code",
   "execution_count": 29,
   "metadata": {},
   "outputs": [],
   "source": [
    "#PLOT EFFICIENT-FRONTIER (WITH RISKLESS ASSET)"
   ]
  },
  {
   "cell_type": "code",
   "execution_count": 30,
   "metadata": {},
   "outputs": [
    {
     "data": {
      "image/png": "[encoded data removed]",
      "text/plain": [
       "<Figure size 720x576 with 1 Axes>"
      ]
     },
     "metadata": {},
     "output_type": "display_data"
    }
   ],
   "source": [
    "port_returns = []\n",
    "port_volatility = []\n",
    "Rf_volatility = []\n",
    "Rf = 0.13\n",
    "\n",
    "# populate the empty lists with each portfolios returns,risk and weights\n",
    "for Rp in np.arange(0.0,2.01,0.01):\n",
    "    volatility = np.sqrt((1/delta)+(delta/((zeta*delta)-alpha**2))*(Rp-Rmv)**2)\n",
    "    riskfree_volatility = np.sqrt(((Rp-Rf)**2)/(zeta-2*alpha*Rf+delta*Rf**2))\n",
    "    port_returns.append(Rp)\n",
    "    port_volatility.append(volatility)\n",
    "    Rf_volatility.append(riskfree_volatility)\n",
    "    \n",
    "# dictionary for Returns and Risk values of each portfolio\n",
    "portfolio = {'Returns': port_returns,\n",
    "             'Volatility': port_volatility}\n",
    "\n",
    "Rf_portfolio = {'Returns': port_returns,\n",
    "                'Riskfree_Volatility': Rf_volatility}\n",
    "\n",
    "# dataframe of the extended dictionary\n",
    "df = pd.DataFrame(portfolio)\n",
    "df2 = pd.DataFrame(Rf_portfolio)\n",
    "\n",
    "\n",
    "\n",
    "plt.style.use('seaborn')\n",
    "\n",
    "ax = df.plot.scatter(x = 'Volatility', y = 'Returns', figsize = (10, 8), grid=True)\n",
    "df2.plot.scatter(x = 'Riskfree_Volatility', y = 'Returns',ax = ax, c = 'r', figsize = (10, 8), grid = True)\n",
    "plt.xlabel('Volatility (Std. Deviation)')\n",
    "plt.ylabel('Expected Returns')\n",
    "plt.title('Efficient Frontier & Minimum-Variance Frontier')\n",
    "plt.show()"
   ]
  },
  {
   "cell_type": "code",
   "execution_count": 31,
   "metadata": {},
   "outputs": [],
   "source": [
    "#WEIGHTS OF TANGENCY PORTFOLIO"
   ]
  },
  {
   "cell_type": "code",
   "execution_count": 32,
   "metadata": {},
   "outputs": [
    {
     "data": {
      "text/html": [
       "<div>\n",
       "<style scoped>\n",
       "    .dataframe tbody tr th:only-of-type {\n",
       "        vertical-align: middle;\n",
       "    }\n",
       "\n",
       "    .dataframe tbody tr th {\n",
       "        vertical-align: top;\n",
       "    }\n",
       "\n",
       "    .dataframe thead th {\n",
       "        text-align: right;\n",
       "    }\n",
       "</style>\n",
       "<table border=\"1\" class=\"dataframe\">\n",
       "  <thead>\n",
       "    <tr style=\"text-align: right;\">\n",
       "      <th></th>\n",
       "      <th>Weight</th>\n",
       "    </tr>\n",
       "  </thead>\n",
       "  <tbody>\n",
       "    <tr>\n",
       "      <th>NoDur</th>\n",
       "      <td>0.568379</td>\n",
       "    </tr>\n",
       "    <tr>\n",
       "      <th>Durbl</th>\n",
       "      <td>-0.214243</td>\n",
       "    </tr>\n",
       "    <tr>\n",
       "      <th>Manuf</th>\n",
       "      <td>0.715242</td>\n",
       "    </tr>\n",
       "    <tr>\n",
       "      <th>Enrgy</th>\n",
       "      <td>0.103881</td>\n",
       "    </tr>\n",
       "    <tr>\n",
       "      <th>Hitec</th>\n",
       "      <td>-0.363721</td>\n",
       "    </tr>\n",
       "    <tr>\n",
       "      <th>Telcm</th>\n",
       "      <td>-0.095991</td>\n",
       "    </tr>\n",
       "    <tr>\n",
       "      <th>Shops</th>\n",
       "      <td>0.991283</td>\n",
       "    </tr>\n",
       "    <tr>\n",
       "      <th>Hlth</th>\n",
       "      <td>0.075890</td>\n",
       "    </tr>\n",
       "    <tr>\n",
       "      <th>Utils</th>\n",
       "      <td>0.132488</td>\n",
       "    </tr>\n",
       "    <tr>\n",
       "      <th>Other</th>\n",
       "      <td>-0.913207</td>\n",
       "    </tr>\n",
       "  </tbody>\n",
       "</table>\n",
       "</div>"
      ],
      "text/plain": [
       "         Weight\n",
       "NoDur  0.568379\n",
       "Durbl -0.214243\n",
       "Manuf  0.715242\n",
       "Enrgy  0.103881\n",
       "Hitec -0.363721\n",
       "Telcm -0.095991\n",
       "Shops  0.991283\n",
       "Hlth   0.075890\n",
       "Utils  0.132488\n",
       "Other -0.913207"
      ]
     },
     "execution_count": 32,
     "metadata": {},
     "output_type": "execute_result"
    }
   ],
   "source": [
    "Rtg=((alpha*Rf)-zeta)/(delta*Rf-alpha)\n",
    "weight = a+b*Rtg\n",
    "weight = pd.DataFrame(weight)\n",
    "weight.rename(columns = {0:\"Weight\"},index = {0:'NoDur',1:'Durbl',2:'Manuf',3:'Enrgy',4:'Hitec',5:'Telcm',6:'Shops',7:'Hlth',8:'Utils',9:'Other'})"
   ]
  },
  {
   "cell_type": "code",
   "execution_count": null,
   "metadata": {},
   "outputs": [],
   "source": []
  },
  {
   "cell_type": "code",
   "execution_count": null,
   "metadata": {},
   "outputs": [],
   "source": []
  }
 ],
 "metadata": {
  "kernelspec": {
   "display_name": "Python 3",
   "language": "python",
   "name": "python3"
  },
  "language_info": {
   "codemirror_mode": {
    "name": "ipython",
    "version": 3
   },
   "file_extension": ".py",
   "mimetype": "text/x-python",
   "name": "python",
   "nbconvert_exporter": "python",
   "pygments_lexer": "ipython3",
   "version": "3.7.3"
  }
 },
 "nbformat": 4,
 "nbformat_minor": 2
}
