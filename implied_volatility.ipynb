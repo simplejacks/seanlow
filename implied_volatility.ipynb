{
 "cells": [
  {
   "cell_type": "markdown",
   "metadata": {},
   "source": [
    "In this note we will have a look at how to convert between option prices and implied volatilities.\n",
    "\n",
    "First define the call function"
   ]
  },
  {
   "cell_type": "code",
   "execution_count": 33,
   "metadata": {},
   "outputs": [],
   "source": [
    "import numpy as np\n",
    "import pandas as pd\n",
    "from scipy.stats import norm\n",
    "from math import log, sqrt, exp\n",
    "\n",
    "def Black76LognormalCall(S, K, r, sigma, T):\n",
    "    d1 = (log(S/K)+(r+sigma**2/2)*T) / (sigma*sqrt(T))\n",
    "    d2 = d1 - sigma*sqrt(T)\n",
    "    return S*norm.cdf(d1) - K*exp(-r*T)*norm.cdf(d2)"
   ]
  },
  {
   "cell_type": "code",
   "execution_count": 34,
   "metadata": {},
   "outputs": [],
   "source": [
    "def Bachelier_VanillaCall(S,K,sigma,T):\n",
    "    d1=(S-K)/(sigma*S*np.sqrt(T))\n",
    "    return (S-K)*norm.cdf(d1) + sigma*S*np.sqrt(T)*norm.pdf(d1)"
   ]
  },
  {
   "cell_type": "code",
   "execution_count": 50,
   "metadata": {},
   "outputs": [],
   "source": [
    "def DD_VanillaCall(F, K, r, sigma, T,B):\n",
    "    d1= (np.log(F/(K*B+(1-B)*F)) - 0.5*sigma**2*B**2*T)/ sigma*B*np.sqrt(T)\n",
    "    d2=d1+sigma*B*np.sqrt(T)\n",
    "    return np.exp(-r*T)*(F/B)*norm.cdf(d2) - ((K*B+(1-B)*F)/B)*np.exp(-r*T)*norm.cdf(d1)"
   ]
  },
  {
   "cell_type": "markdown",
   "metadata": {},
   "source": [
    "Given the price of a call option, its implied volatility can be calculated using the following function:"
   ]
  },
  {
   "cell_type": "code",
   "execution_count": 51,
   "metadata": {},
   "outputs": [],
   "source": [
    "from scipy.optimize import brentq\n",
    "\n",
    "def impliedCallVolatility(S, K, r, price, T):\n",
    "    impliedVol = brentq(lambda x: price -\n",
    "                        Bachelier_VanillaCall(S,K,x,T),\n",
    "                        -1, 1)\n",
    "\n",
    "    return impliedVol"
   ]
  },
  {
   "cell_type": "code",
   "execution_count": null,
   "metadata": {},
   "outputs": [],
   "source": []
  },
  {
   "cell_type": "markdown",
   "metadata": {},
   "source": [
    "This function can be readily extended to calculate the implied volatilities of different payoffs:\n",
    "- calls\n",
    "- puts\n",
    "- straddles"
   ]
  },
  {
   "cell_type": "code",
   "execution_count": null,
   "metadata": {},
   "outputs": [],
   "source": []
  },
  {
   "cell_type": "code",
   "execution_count": null,
   "metadata": {},
   "outputs": [],
   "source": []
  },
  {
   "cell_type": "code",
   "execution_count": null,
   "metadata": {},
   "outputs": [],
   "source": []
  },
  {
   "cell_type": "code",
   "execution_count": null,
   "metadata": {},
   "outputs": [],
   "source": []
  },
  {
   "cell_type": "code",
   "execution_count": null,
   "metadata": {},
   "outputs": [],
   "source": []
  }
 ],
 "metadata": {
  "kernelspec": {
   "display_name": "Python 3",
   "language": "python",
   "name": "python3"
  },
  "language_info": {
   "codemirror_mode": {
    "name": "ipython",
    "version": 3
   },
   "file_extension": ".py",
   "mimetype": "text/x-python",
   "name": "python",
   "nbconvert_exporter": "python",
   "pygments_lexer": "ipython3",
   "version": "3.7.3"
  }
 },
 "nbformat": 4,
 "nbformat_minor": 2
}
